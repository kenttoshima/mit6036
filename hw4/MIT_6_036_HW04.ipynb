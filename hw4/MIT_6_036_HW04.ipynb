{
  "nbformat": 4,
  "nbformat_minor": 0,
  "metadata": {
    "colab": {
      "name": "MIT 6.036 HW04.ipynb",
      "provenance": [],
      "collapsed_sections": [],
      "include_colab_link": true
    },
    "kernelspec": {
      "name": "python3",
      "display_name": "Python 3"
    }
  },
  "cells": [
    {
      "cell_type": "markdown",
      "metadata": {
        "id": "view-in-github",
        "colab_type": "text"
      },
      "source": [
        "<a href=\"https://colab.research.google.com/github/kenttoshima/mit6036/blob/master/hw4/MIT_6_036_HW04.ipynb\" target=\"_parent\"><img src=\"https://colab.research.google.com/assets/colab-badge.svg\" alt=\"Open In Colab\"/></a>"
      ]
    },
    {
      "cell_type": "markdown",
      "metadata": {
        "id": "Wmv3jlgr4_Ji",
        "colab_type": "text"
      },
      "source": [
        "# MIT 6.036 Fall 2019: Homework 4\n",
        "This homework does not include provided Python code. Instead, we\n",
        "encourage you to write your own code to help you answer some of these\n",
        "problems, and/or test and debug the code components we do ask for.\n",
        "Some of the problems below are simple enough that hand calculation\n",
        "should be possible; your hand solutions can serve as test cases for\n",
        "your code.  You may also find that including utilities written in\n",
        "previous labs (like a `sd` or signed distance function) will be\n",
        "helpful, as you build up additional functions and utilities for\n",
        "calculation of margins, different loss functions, gradients, and other\n",
        "functions needed for margin maximization and gradient descent."
      ]
    },
    {
      "cell_type": "code",
      "metadata": {
        "id": "N622h8-D5i-M",
        "colab_type": "code",
        "colab": {
          "base_uri": "https://localhost:8080/",
          "height": 85
        },
        "outputId": "0ae5d5c9-faad-4f99-f18b-212353c86267"
      },
      "source": [
        "!rm -rf code_and_data_for_hw4*\n",
        "!rm -rf mnist\n",
        "!wget --quiet https://introml.odl.mit.edu/cat-soop/_static/6.036/homework/hw04/code_and_data_for_hw04.zip\n",
        "!unzip code_and_data_for_hw04.zip\n",
        "!mv code_and_data_for_hw04/* .\n",
        "  \n",
        "from code_for_hw04 import *\n",
        "import numpy as np"
      ],
      "execution_count": 1,
      "outputs": [
        {
          "output_type": "stream",
          "text": [
            "Archive:  code_and_data_for_hw04.zip\n",
            "   creating: code_and_data_for_hw04/\n",
            "  inflating: code_and_data_for_hw04/code_for_hw04.py  \n",
            "Importing code_for_hw04\n"
          ],
          "name": "stdout"
        }
      ]
    },
    {
      "cell_type": "markdown",
      "metadata": {
        "id": "jUS51a8m5rEI",
        "colab_type": "text"
      },
      "source": [
        "## 3) Implementing gradient descent\n",
        "In this section we will implement generic versions of gradient descent and apply these to the logistic regression objective.\n",
        "\n",
        "<b>Note: </b> If you need a refresher on gradient descent,\n",
        "you may want to reference\n",
        "<a href=\"https://lms.mitx.mit.edu/courses/course-v1:MITx+6.036+2019_Fall/courseware/Week4/gradient_descent/5\">this week's notes</a>.\n",
        "\n",
        "### 3.1) Implementing Gradient Descent\n",
        "We want to find the $x$ that minimizes the value of the *objective\n",
        "function* $f(x)$, for an arbitrary scalar function $f$.  The function\n",
        "$f$ will be implemented as a Python function of one argument, that\n",
        "will be a numpy column vector.  For efficiency, we will work with\n",
        "Python functions that return not just the value of $f$ at $f(x)$ but\n",
        "also return the gradient vector at $x$, that is, $\\nabla_x f(x)$.\n",
        "\n",
        "We will now implement a generic gradient descent function, `gd`, that\n",
        "has the following input arguments:\n",
        "\n",
        "* `f`: a function whose input is an `x`, a column vector, and\n",
        "  returns a scalar.\n",
        "* `df`: a function whose input is an `x`, a column vector, and\n",
        "  returns a column vector representing the gradient of `f` at `x`.\n",
        "* `x0`: an initial value of $x$, `x0`, which is a column vector.\n",
        "* `step_size_fn`: a function that is given the iteration index (an\n",
        "  integer) and returns a step size.\n",
        "* `max_iter`: the number of iterations to perform\n",
        "\n",
        "Our function `gd` returns a tuple:\n",
        "\n",
        "* `x`: the value at the final step\n",
        "* `fs`: the list of values of `f` found during all the iterations (including `f(x0)`)\n",
        "* `xs`: the list of values of `x` found during all the iterations (including `x0`)\n",
        "\n",
        "**Hint:** This is a short function!"
      ]
    },
    {
      "cell_type": "markdown",
      "metadata": {
        "id": "s03NFuxG6kvt",
        "colab_type": "text"
      },
      "source": [
        "The main function to implement is `gd`, defined below."
      ]
    },
    {
      "cell_type": "code",
      "metadata": {
        "id": "mNsLE3bg6jt9",
        "colab_type": "code",
        "colab": {}
      },
      "source": [
        "def gd(f, df, x0, step_size_fn, num_steps):\n",
        "    x = x0\n",
        "    for i in range(num_steps):\n",
        "      x = x - step_size_fn(i) * df(x)\n",
        "    return x, f(x)"
      ],
      "execution_count": 0,
      "outputs": []
    },
    {
      "cell_type": "markdown",
      "metadata": {
        "id": "jXu60n-H5_Hz",
        "colab_type": "text"
      },
      "source": [
        "To evaluate results, we also use a simple `package_ans` function,\n",
        "which checks the final `x`, as well as the first and last values in\n",
        "`fs`, `xs`."
      ]
    },
    {
      "cell_type": "markdown",
      "metadata": {
        "id": "aN_XbacQ6Rue",
        "colab_type": "text"
      },
      "source": [
        "The test cases are provided below, but you should feel free (and are encouraged!) to write more of your own."
      ]
    },
    {
      "cell_type": "code",
      "metadata": {
        "id": "GJcClaqN4nE6",
        "colab_type": "code",
        "colab": {
          "base_uri": "https://localhost:8080/",
          "height": 85
        },
        "outputId": "74c0d90c-badf-46b5-8b6d-589db3046bfb"
      },
      "source": [
        "test_gd(gd)"
      ],
      "execution_count": 8,
      "outputs": [
        {
          "output_type": "stream",
          "text": [
            "Test 1:\n",
            "Passed!\n",
            "Test 2:\n",
            "Passed!\n"
          ],
          "name": "stdout"
        }
      ]
    },
    {
      "cell_type": "markdown",
      "metadata": {
        "id": "pbuSt5hY645k",
        "colab_type": "text"
      },
      "source": [
        "### 3.2) Numerical Gradient\n",
        "Getting the analytic gradient correct for complicated functions is\n",
        "tricky.  A very handy method of verifying the analytic gradient or\n",
        "even substituting for it is to estimate the gradient at a point by\n",
        "means of *finite differences*.\n",
        "\n",
        "Assume that we are given a function $f(x)$ that takes a column vector\n",
        "as its argument and returns a scalar value.  In gradient descent, we\n",
        "will want to estimate the gradient of $f$ at a particular $x_0.$\n",
        "\n",
        "The $i^{th}$ component of $\\nabla_x f(x_0)$ can be estimated as\n",
        "$$\\frac{f(x_0+\\delta^{i}) - f(x_0-\\delta^{i})}{2\\delta}$$\n",
        "where $\\delta^{i}$ is a column vector whose $i^{th}$ coordinate is\n",
        "$\\delta$, a small constant such as 0.001, and whose other components\n",
        "are zero.\n",
        "Note that adding or subtracting $\\delta^{i}$ is the same as\n",
        "incrementing or decrementing the $i^{th}$ component of $x_0$ by\n",
        "$\\delta$, leaving the other components of $x_0$ unchanged.  Using\n",
        "these results, we can estimate the $i^{th}$ component of the gradient.\n",
        "\n",
        "\n",
        "**For example**, take $x^(0) = (1,2,3)^T$. The gradient $\\nabla_x f(x)$ is a vector of the derivatives of $f(x)$ with respect to each component of $x$, or $\\nabla_x f(x) = (\\frac{df(x)}{dx_1},\\frac{df(x)}{dx_2},\\frac{df(x)}{dx_3})^T$.\n",
        "\n",
        "We can approximate the first component of $\\nabla_x f(x)$ as\n",
        "$$\\frac{f((1,2,3)^T+(0.01,0,0)^T) - f((1,2,3)^T-(0.01,0,0)^T)}{2\\cdot 0.01}.$$\n",
        "\n",
        "(We add the transpose so that these are column vectors.)\n",
        "**This process should be done for each dimension independently,\n",
        "and together the results of each computation are compiled to give the\n",
        "estimated gradient, which is $d$ dimensional.**\n",
        "\n",
        "Implement this as a function `num_grad` that takes as arguments the\n",
        "objective function `f` and a value of `delta`, and returns a new\n",
        "**function** that takes an `x` (a column vector of parameters) and\n",
        "returns a gradient column vector.\n",
        "\n",
        "**Note:** Watch  out for aliasing. If you do temp_x = x where x is a vector (numpy array), then temp_x is just another name for the same vector as x and changing an entry in one will change an entry in the other. You should either use x.copy() or remember to change entries back after modification."
      ]
    },
    {
      "cell_type": "code",
      "metadata": {
        "id": "WPVwGZ-l6XvW",
        "colab_type": "code",
        "colab": {}
      },
      "source": [
        "def num_grad(f, delta=0.001):\n",
        "    def df(x):\n",
        "        grad = np.zeros_like(x)\n",
        "        for i in range(x.shape[0]):\n",
        "          delta_v = np.zeros_like(x)\n",
        "          delta_v[i] = delta\n",
        "          grad[i] = (f(x + delta_v) - f(x - delta_v)) / (2 * delta)\n",
        "        return grad\n",
        "    return df"
      ],
      "execution_count": 0,
      "outputs": []
    },
    {
      "cell_type": "markdown",
      "metadata": {
        "id": "kElTR0bL7cbG",
        "colab_type": "text"
      },
      "source": [
        "The test cases are shown below; these use the functions defined in the previous exercise.\n"
      ]
    },
    {
      "cell_type": "code",
      "metadata": {
        "id": "iiWOdSl_6yAE",
        "colab_type": "code",
        "colab": {
          "base_uri": "https://localhost:8080/",
          "height": 153
        },
        "outputId": "9b90bfa9-dd48-4ad6-a0eb-c88ae0216350"
      },
      "source": [
        "test_num_grad(num_grad)"
      ],
      "execution_count": 19,
      "outputs": [
        {
          "output_type": "stream",
          "text": [
            "Test 1\n",
            "Passed\n",
            "Test 2\n",
            "Passed\n",
            "Test 3\n",
            "Passed\n",
            "Test 4\n",
            "Passed\n"
          ],
          "name": "stdout"
        }
      ]
    },
    {
      "cell_type": "markdown",
      "metadata": {
        "id": "WASaSsYu75sG",
        "colab_type": "text"
      },
      "source": [
        "A faster (one function evaluation per entry), though sometimes less\n",
        "accurate, estimate is to use:\n",
        "$$\\frac{f(x_0+\\delta^{i}) - f(x_0)}{\\delta}$$\n",
        "for the $i^{th}$ component of $\\nabla_x f(x_0).$"
      ]
    },
    {
      "cell_type": "markdown",
      "metadata": {
        "id": "E31sdqyG78jD",
        "colab_type": "text"
      },
      "source": [
        "### 3.3) Using the Numerical Gradient\n",
        "Recall that our generic gradient descent function takes both a function\n",
        "`f` that returns the value of our function at a given point, and `df`,\n",
        "a function that returns a gradient at a given point.  Write a function\n",
        "`minimize` that takes only a function `f` and uses this function and\n",
        "numerical gradient descent to return the local minimum.  We have\n",
        "provided you with our implementations of `num_grad` and `gd`, so you\n",
        "should not redefine them in the code box below.\n",
        "You may use the default of `delta=0.001` for `num_grad`.\n",
        "\n",
        "**Hint:** Your definition of `minimize` should call `num_grad` exactly\n",
        "once, to return a function that is called many times.\n",
        "You should return the same outputs as `gd`."
      ]
    },
    {
      "cell_type": "code",
      "metadata": {
        "id": "CStwqDem76Bx",
        "colab_type": "code",
        "colab": {}
      },
      "source": [
        "def minimize(f, x0, step_size_fn, num_steps):\n",
        "    df = num_grad(f)\n",
        "    x_b, fx_b = gd(f, df, x0, step_size_fn, num_steps)\n",
        "    while True:\n",
        "      x_a, fx_a = gd(f, df, x_b, step_size_fn, num_steps)\n",
        "      if np.all(x_b == x_a) and np.all(fx_b == fx_a): \n",
        "        break\n",
        "      else:\n",
        "        x_b, fx_b = x_a, fx_a\n",
        "    return x_a, fx_a"
      ],
      "execution_count": 0,
      "outputs": []
    },
    {
      "cell_type": "markdown",
      "metadata": {
        "id": "4gl0FTby8EQq",
        "colab_type": "text"
      },
      "source": [
        "The test cases are below."
      ]
    },
    {
      "cell_type": "code",
      "metadata": {
        "id": "UxBLWJFm8DnV",
        "colab_type": "code",
        "colab": {
          "base_uri": "https://localhost:8080/",
          "height": 85
        },
        "outputId": "cc445344-3562-4455-f7f9-9f02ac42708f"
      },
      "source": [
        "test_minimize(minimize)"
      ],
      "execution_count": 39,
      "outputs": [
        {
          "output_type": "stream",
          "text": [
            "Test 1\n",
            "Passed\n",
            "Test 2\n",
            "Passed\n"
          ],
          "name": "stdout"
        }
      ]
    },
    {
      "cell_type": "markdown",
      "metadata": {
        "id": "BH-1e98V8LtM",
        "colab_type": "text"
      },
      "source": [
        "## 4) Applying gradient descent to Linear Logistic Classification objective\n",
        "\n",
        "**Note:** In this section,\n",
        "you will code many individual functions, each of which depends on previous ones.\n",
        "We **strongly recommend** that you test each of the components on your own to debug.\n",
        "\n",
        "### 4.1) Calculating the Linear Logistic Classification (LLC) objective\n",
        "\n",
        "First, implement the sigmoid function and implement NLL loss over the data points and separator.\n",
        "Using the latter function, implement the LLC objective.\n",
        "Note that these functions should work for matrix/vector arguments,\n",
        "so that we can compute the objective for a whole dataset with one call.\n",
        "<pre> x is d x n, y is 1 x n, th is d x 1, th0 is 1 x 1, lam is a scalar </pre>\n"
      ]
    },
    {
      "cell_type": "code",
      "metadata": {
        "id": "F_6E78BF8e2W",
        "colab_type": "code",
        "colab": {}
      },
      "source": [
        "def sigmoid(x):\n",
        "    return 1 / (1 + np.exp(-x))"
      ],
      "execution_count": 0,
      "outputs": []
    },
    {
      "cell_type": "code",
      "metadata": {
        "id": "qITydx3UhQa_",
        "colab_type": "code",
        "colab": {}
      },
      "source": [
        "# X is dxn, y is 1xn, th is dx1, th0 is 1x1\n",
        "# returns (1,n) the nll loss for each data point given th and th0 \n",
        "def nll_loss(X, y, th, th0):\n",
        "    g = sigmoid(np.dot(th.T, X) + th0)\n",
        "    return -(y * np.log(g) + (1 - y) * np.log(1 - g))"
      ],
      "execution_count": 0,
      "outputs": []
    },
    {
      "cell_type": "code",
      "metadata": {
        "id": "sUrOAUxxhQ0d",
        "colab_type": "code",
        "colab": {}
      },
      "source": [
        "# X is dxn, y is 1xn, th is dx1, th0 is 1x1, lam is a scalar\n",
        "# returns (float) the llc objective over the dataset\n",
        "def llc_obj(X, y, th, th0, lam):\n",
        "    return nll_loss(X, y, th, th0).mean() + lam * np.sum(np.square(th))\n"
      ],
      "execution_count": 0,
      "outputs": []
    },
    {
      "cell_type": "markdown",
      "metadata": {
        "id": "QY1NJEOP8jCC",
        "colab_type": "text"
      },
      "source": [
        "In the test cases for this problem, we'll use the following\n",
        "`super_simple_separable` test dataset and test separator for some of\n",
        "the tests.  A couple of the test cases are also shown below."
      ]
    },
    {
      "cell_type": "code",
      "metadata": {
        "id": "POFvK7zW8iYK",
        "colab_type": "code",
        "colab": {
          "base_uri": "https://localhost:8080/",
          "height": 68
        },
        "outputId": "c63b62c1-a51e-432f-d7ec-563fae56a1fc"
      },
      "source": [
        "test_llc_obj(sigmoid,nll_loss,llc_obj)"
      ],
      "execution_count": 45,
      "outputs": [
        {
          "output_type": "stream",
          "text": [
            "Test 1 passed\n",
            "Test 2 passed\n",
            "Test 3 passed\n"
          ],
          "name": "stdout"
        }
      ]
    },
    {
      "cell_type": "markdown",
      "metadata": {
        "id": "ZjBB0R4u8tF1",
        "colab_type": "text"
      },
      "source": [
        "### 4.2) Calculating the Linear Logistic Classification gradient\n",
        "\n",
        "Define a function `llc_obj_grad` that returns the gradient of the logistic regression\n",
        "objective function with respect to $\\theta$ and $\\theta_0$ in a single\n",
        "column vector.  The last component of the gradient vector should be\n",
        "the partial derivative with respect to $\\theta_0$.  Look at\n",
        "`np.vstack` as a simple way of stacking two matrices/vectors\n",
        "vertically.  We have broken it down into pieces that mimic steps in\n",
        "the chain rule; this leads to code that is a bit inefficient but\n",
        "easier to write and debug.  We can worry about efficiency later."
      ]
    },
    {
      "cell_type": "code",
      "metadata": {
        "id": "lAtDiGVK8vnt",
        "colab_type": "code",
        "colab": {}
      },
      "source": [
        "# returns (1,1) the gradient of sigmoid with respect to x\n",
        "def d_sigmoid(x):\n",
        "    sx = sigmoid(x)\n",
        "    return sx * (1 - sx)\n",
        "\n",
        "# returns (d,n) the gradient of nll_loss(X, y, th, th0) with respect to th for each data point\n",
        "def d_nll_loss_th(X, y, th, th0):\n",
        "    g = sigmoid(np.dot(th.T, X) + th0)\n",
        "    return -X * y * (1 - g) + X * (1 - y) * g\n",
        "\n",
        "# returns (1,n) the gradient of nll_loss(X, y, th, th0) with respect to th0\n",
        "def d_nll_loss_th0(X, y, th, th0):\n",
        "    g = sigmoid(np.dot(th.T, X) + th0)\n",
        "    return -y * (1 - g) + (1 - y) * g\n",
        "\n",
        "# returns (d,1) the gradient of llc_obj(X, y, th, th0) with respect to th\n",
        "def d_llc_obj_th(X, y, th, th0, lam):\n",
        "    return np.mean(d_nll_loss_th(X, y, th, th0), axis=1, keepdims=True) + 2 * lam * th\n",
        "\n",
        "# returns (1,1) the gradient of llc_obj(X, y, th, th0) with respect to th0\n",
        "def d_llc_obj_th0(X, y, th, th0, lam):\n",
        "    return np.mean(d_nll_loss_th0(X, y, th, th0), axis=1, keepdims=True)\n",
        "\n",
        "# returns (d+1, 1) the full gradient as a single vector (which includes both th, th0)\n",
        "def llc_obj_grad(X, y, th, th0, lam):\n",
        "    return np.vstack((d_llc_obj_th(X, y, th, th0, lam), d_llc_obj_th0(X, y, th, th0, lam)))"
      ],
      "execution_count": 0,
      "outputs": []
    },
    {
      "cell_type": "markdown",
      "metadata": {
        "id": "LDP6H_2P80vm",
        "colab_type": "text"
      },
      "source": [
        "Some test cases that may be of use are provided below."
      ]
    },
    {
      "cell_type": "code",
      "metadata": {
        "id": "xNuF6-c38yji",
        "colab_type": "code",
        "colab": {
          "base_uri": "https://localhost:8080/",
          "height": 136
        },
        "outputId": "b9cf95ee-d51e-4922-bca1-af051b5377dc"
      },
      "source": [
        "test_llc_grad(d_sigmoid,d_nll_loss_th,d_nll_loss_th0,d_llc_obj_th,d_llc_obj_th0,llc_obj_grad)"
      ],
      "execution_count": 59,
      "outputs": [
        {
          "output_type": "stream",
          "text": [
            "Test 1 passed\n",
            "Test 2 passed\n",
            "Test 3 passed\n",
            "Test 4 passed\n",
            "Test 5 passed\n",
            "Test 6 passed\n",
            "Test 7 passed\n"
          ],
          "name": "stdout"
        }
      ]
    },
    {
      "cell_type": "markdown",
      "metadata": {
        "id": "3vf6OFEU89pC",
        "colab_type": "text"
      },
      "source": [
        "### 4.3) Linear Logistic Classification minimize\n",
        "\n",
        "Putting it all together, use the functions you built earlier to write\n",
        "a gradient descent minimizer for the LLC objective.  You do not need\n",
        "to paste in your previous definitions; you can just call the ones\n",
        "you've defined above.  You will need to call `gd`; your function `llc_min` should return\n",
        "the values that `gd` does.\n",
        "\n",
        "* Initialize all the separator parameters to zero,\n",
        "* use the step size function provided below, and\n",
        "* specify 10 iterations."
      ]
    },
    {
      "cell_type": "code",
      "metadata": {
        "id": "dIqWIYnq8_Nb",
        "colab_type": "code",
        "colab": {}
      },
      "source": [
        "def llc_min(data, labels, lam):\n",
        "    def llc_min_step_size_fn(i):\n",
        "       return 2/(i+1)**0.5\n",
        "    th = np.zeros((data.shape[0], 1)), th0 = np.zeros((1, 1))\n",
        "    grad = llc_obj_grad(data, labels, th, th0, lam)\n",
        "    x_b, fx_b = gd(f=llc_obj, df=llc_obj_grad, x0=x0, step_size_fn=llc_min_step_size_fn, num_steps=10)\n",
        "    while True:\n",
        "      x_a, fx_a = gd(f, df, x_b, step_size_fn, num_steps)\n",
        "      if np.all(x_b == x_a) and np.all(fx_b == fx_a): \n",
        "        break\n",
        "      else:\n",
        "        x_b, fx_b = x_a, fx_a\n",
        "    return x_a, fx_a"
      ],
      "execution_count": 0,
      "outputs": []
    },
    {
      "cell_type": "markdown",
      "metadata": {
        "id": "JH4xd7C-9BIm",
        "colab_type": "text"
      },
      "source": [
        "Test cases are shown below, where an additional separable test\n",
        "data set has been specified."
      ]
    },
    {
      "cell_type": "code",
      "metadata": {
        "id": "HgOC_i879Acd",
        "colab_type": "code",
        "colab": {
          "base_uri": "https://localhost:8080/",
          "height": 528
        },
        "outputId": "7d2ec769-0413-45a9-bea1-766bb26cc861"
      },
      "source": [
        "test_llc_min(llc_min)"
      ],
      "execution_count": 65,
      "outputs": [
        {
          "output_type": "error",
          "ename": "TypeError",
          "evalue": "ignored",
          "traceback": [
            "\u001b[0;31m---------------------------------------------------------------------------\u001b[0m",
            "\u001b[0;31mTypeError\u001b[0m                                 Traceback (most recent call last)",
            "\u001b[0;32m<ipython-input-65-8d9828e1ddd4>\u001b[0m in \u001b[0;36m<module>\u001b[0;34m()\u001b[0m\n\u001b[0;32m----> 1\u001b[0;31m \u001b[0mtest_llc_min\u001b[0m\u001b[0;34m(\u001b[0m\u001b[0mllc_min\u001b[0m\u001b[0;34m)\u001b[0m\u001b[0;34m\u001b[0m\u001b[0;34m\u001b[0m\u001b[0m\n\u001b[0m",
            "\u001b[0;32m/content/code_for_hw04.py\u001b[0m in \u001b[0;36mtest_llc_min\u001b[0;34m(llc_min)\u001b[0m\n\u001b[1;32m    364\u001b[0m \u001b[0;32mdef\u001b[0m \u001b[0mtest_llc_min\u001b[0m\u001b[0;34m(\u001b[0m\u001b[0mllc_min\u001b[0m\u001b[0;34m)\u001b[0m\u001b[0;34m:\u001b[0m\u001b[0;34m\u001b[0m\u001b[0;34m\u001b[0m\u001b[0m\n\u001b[1;32m    365\u001b[0m     \u001b[0mx_1\u001b[0m\u001b[0;34m,\u001b[0m \u001b[0my_1\u001b[0m \u001b[0;34m=\u001b[0m \u001b[0msuper_simple_separable\u001b[0m\u001b[0;34m(\u001b[0m\u001b[0;34m)\u001b[0m\u001b[0;34m\u001b[0m\u001b[0;34m\u001b[0m\u001b[0m\n\u001b[0;32m--> 366\u001b[0;31m     \u001b[0mans\u001b[0m \u001b[0;34m=\u001b[0m \u001b[0mpackage_ans\u001b[0m\u001b[0;34m(\u001b[0m\u001b[0mllc_min\u001b[0m\u001b[0;34m(\u001b[0m\u001b[0mx_1\u001b[0m\u001b[0;34m,\u001b[0m \u001b[0my_1\u001b[0m\u001b[0;34m,\u001b[0m \u001b[0;36m0.0001\u001b[0m\u001b[0;34m)\u001b[0m\u001b[0;34m)\u001b[0m\u001b[0;34m\u001b[0m\u001b[0;34m\u001b[0m\u001b[0m\n\u001b[0m\u001b[1;32m    367\u001b[0m \u001b[0;31m#    print(ans)\u001b[0m\u001b[0;34m\u001b[0m\u001b[0;34m\u001b[0m\u001b[0;34m\u001b[0m\u001b[0m\n\u001b[1;32m    368\u001b[0m     \u001b[0mexpected\u001b[0m \u001b[0;34m=\u001b[0m \u001b[0;34m[\u001b[0m\u001b[0;34m[\u001b[0m\u001b[0;34m[\u001b[0m\u001b[0;34m-\u001b[0m\u001b[0;36m1.897383932746237\u001b[0m\u001b[0;34m]\u001b[0m\u001b[0;34m,\u001b[0m \u001b[0;34m[\u001b[0m\u001b[0;36m3.3962308285238088\u001b[0m\u001b[0;34m]\u001b[0m\u001b[0;34m,\u001b[0m \u001b[0;34m[\u001b[0m\u001b[0;34m-\u001b[0m\u001b[0;36m0.3185808665118801\u001b[0m\u001b[0;34m]\u001b[0m\u001b[0;34m]\u001b[0m\u001b[0;34m,\u001b[0m \u001b[0;36m0.30406118305471325\u001b[0m\u001b[0;34m]\u001b[0m\u001b[0;34m\u001b[0m\u001b[0;34m\u001b[0m\u001b[0m\n",
            "\u001b[0;32m<ipython-input-64-fedda30d949b>\u001b[0m in \u001b[0;36mllc_min\u001b[0;34m(data, labels, lam)\u001b[0m\n\u001b[1;32m      3\u001b[0m        \u001b[0;32mreturn\u001b[0m \u001b[0;36m2\u001b[0m\u001b[0;34m/\u001b[0m\u001b[0;34m(\u001b[0m\u001b[0mi\u001b[0m\u001b[0;34m+\u001b[0m\u001b[0;36m1\u001b[0m\u001b[0;34m)\u001b[0m\u001b[0;34m**\u001b[0m\u001b[0;36m0.5\u001b[0m\u001b[0;34m\u001b[0m\u001b[0;34m\u001b[0m\u001b[0m\n\u001b[1;32m      4\u001b[0m     \u001b[0mx0\u001b[0m \u001b[0;34m=\u001b[0m \u001b[0mnp\u001b[0m\u001b[0;34m.\u001b[0m\u001b[0mzeros\u001b[0m\u001b[0;34m(\u001b[0m\u001b[0;34m(\u001b[0m\u001b[0mdata\u001b[0m\u001b[0;34m.\u001b[0m\u001b[0mshape\u001b[0m\u001b[0;34m[\u001b[0m\u001b[0;36m0\u001b[0m\u001b[0;34m]\u001b[0m\u001b[0;34m,\u001b[0m \u001b[0;36m1\u001b[0m\u001b[0;34m)\u001b[0m\u001b[0;34m)\u001b[0m\u001b[0;34m\u001b[0m\u001b[0;34m\u001b[0m\u001b[0m\n\u001b[0;32m----> 5\u001b[0;31m     \u001b[0mx_b\u001b[0m\u001b[0;34m,\u001b[0m \u001b[0mfx_b\u001b[0m \u001b[0;34m=\u001b[0m \u001b[0mgd\u001b[0m\u001b[0;34m(\u001b[0m\u001b[0mf\u001b[0m\u001b[0;34m=\u001b[0m\u001b[0mllc_obj\u001b[0m\u001b[0;34m,\u001b[0m \u001b[0mdf\u001b[0m\u001b[0;34m=\u001b[0m\u001b[0mllc_obj_grad\u001b[0m\u001b[0;34m,\u001b[0m \u001b[0mx0\u001b[0m\u001b[0;34m=\u001b[0m\u001b[0mx0\u001b[0m\u001b[0;34m,\u001b[0m \u001b[0mstep_size_fn\u001b[0m\u001b[0;34m=\u001b[0m\u001b[0mllc_min_step_size_fn\u001b[0m\u001b[0;34m,\u001b[0m \u001b[0mnum_steps\u001b[0m\u001b[0;34m=\u001b[0m\u001b[0;36m10\u001b[0m\u001b[0;34m)\u001b[0m\u001b[0;34m\u001b[0m\u001b[0;34m\u001b[0m\u001b[0m\n\u001b[0m\u001b[1;32m      6\u001b[0m     \u001b[0;32mwhile\u001b[0m \u001b[0;32mTrue\u001b[0m\u001b[0;34m:\u001b[0m\u001b[0;34m\u001b[0m\u001b[0;34m\u001b[0m\u001b[0m\n\u001b[1;32m      7\u001b[0m       \u001b[0mx_a\u001b[0m\u001b[0;34m,\u001b[0m \u001b[0mfx_a\u001b[0m \u001b[0;34m=\u001b[0m \u001b[0mgd\u001b[0m\u001b[0;34m(\u001b[0m\u001b[0mf\u001b[0m\u001b[0;34m,\u001b[0m \u001b[0mdf\u001b[0m\u001b[0;34m,\u001b[0m \u001b[0mx_b\u001b[0m\u001b[0;34m,\u001b[0m \u001b[0mstep_size_fn\u001b[0m\u001b[0;34m,\u001b[0m \u001b[0mnum_steps\u001b[0m\u001b[0;34m)\u001b[0m\u001b[0;34m\u001b[0m\u001b[0;34m\u001b[0m\u001b[0m\n",
            "\u001b[0;32m<ipython-input-6-d473308e0fcc>\u001b[0m in \u001b[0;36mgd\u001b[0;34m(f, df, x0, step_size_fn, num_steps)\u001b[0m\n\u001b[1;32m      2\u001b[0m     \u001b[0mx\u001b[0m \u001b[0;34m=\u001b[0m \u001b[0mx0\u001b[0m\u001b[0;34m\u001b[0m\u001b[0;34m\u001b[0m\u001b[0m\n\u001b[1;32m      3\u001b[0m     \u001b[0;32mfor\u001b[0m \u001b[0mi\u001b[0m \u001b[0;32min\u001b[0m \u001b[0mrange\u001b[0m\u001b[0;34m(\u001b[0m\u001b[0mnum_steps\u001b[0m\u001b[0;34m)\u001b[0m\u001b[0;34m:\u001b[0m\u001b[0;34m\u001b[0m\u001b[0;34m\u001b[0m\u001b[0m\n\u001b[0;32m----> 4\u001b[0;31m       \u001b[0mx\u001b[0m \u001b[0;34m=\u001b[0m \u001b[0mx\u001b[0m \u001b[0;34m-\u001b[0m \u001b[0mstep_size_fn\u001b[0m\u001b[0;34m(\u001b[0m\u001b[0mi\u001b[0m\u001b[0;34m)\u001b[0m \u001b[0;34m*\u001b[0m \u001b[0mdf\u001b[0m\u001b[0;34m(\u001b[0m\u001b[0mx\u001b[0m\u001b[0;34m)\u001b[0m\u001b[0;34m\u001b[0m\u001b[0;34m\u001b[0m\u001b[0m\n\u001b[0m\u001b[1;32m      5\u001b[0m     \u001b[0;32mreturn\u001b[0m \u001b[0mx\u001b[0m\u001b[0;34m,\u001b[0m \u001b[0mf\u001b[0m\u001b[0;34m(\u001b[0m\u001b[0mx\u001b[0m\u001b[0;34m)\u001b[0m\u001b[0;34m\u001b[0m\u001b[0;34m\u001b[0m\u001b[0m\n",
            "\u001b[0;31mTypeError\u001b[0m: llc_obj_grad() missing 4 required positional arguments: 'y', 'th', 'th0', and 'lam'"
          ]
        }
      ]
    },
    {
      "cell_type": "code",
      "metadata": {
        "id": "Uqx0GkQMp3D7",
        "colab_type": "code",
        "colab": {}
      },
      "source": [
        ""
      ],
      "execution_count": 0,
      "outputs": []
    }
  ]
}