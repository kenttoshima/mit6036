{
 "cells": [
  {
   "cell_type": "code",
   "execution_count": 1,
   "metadata": {},
   "outputs": [
    {
     "name": "stdout",
     "output_type": "stream",
     "text": [
      "Importing code_for_hw03\n",
      "Imported tidy_plot, plot_separator, plot_data, plot_nonlin_sep, cv, rv, y, positive, score\n",
      "Datasets: super_simple_separable_through_origin(), super_simple_separable(), xor(), xor_more()\n",
      "Tests for part 2: test_linear_classifier_with_features, mul, make_polynomial_feature_fun, \n",
      "                  test_with_features\n",
      "Also loaded: perceptron, one_hot_internal, test_one_hot\n"
     ]
    }
   ],
   "source": [
    "from code_for_hw3_part1 import *"
   ]
  },
  {
   "cell_type": "markdown",
   "metadata": {},
   "source": [
    "## (1) scaling"
   ]
  },
  {
   "cell_type": "markdown",
   "metadata": {},
   "source": [
    "### (a)"
   ]
  },
  {
   "cell_type": "code",
   "execution_count": 2,
   "metadata": {},
   "outputs": [
    {
     "name": "stdout",
     "output_type": "stream",
     "text": [
      "[[2.e+02 8.e+02 2.e+02 8.e+02]\n",
      " [2.e-01 2.e-01 8.e-01 8.e-01]\n",
      " [1.e+00 1.e+00 1.e+00 1.e+00]]\n"
     ]
    }
   ],
   "source": [
    "data = np.array([[200, 800, 200, 800],\n",
    "                 [0.2,  0.2,  0.8,  0.8],\n",
    "                 [1, 1, 1, 1]])\n",
    "labels = np.array([[-1, -1, 1, 1]])\n",
    "theta = np.array([[0, 1, -0.5]])\n",
    "print(data)"
   ]
  },
  {
   "cell_type": "code",
   "execution_count": 3,
   "metadata": {},
   "outputs": [
    {
     "name": "stdout",
     "output_type": "stream",
     "text": [
      "(3, 4)\n",
      "(1, 4)\n",
      "(1, 3)\n"
     ]
    }
   ],
   "source": [
    "# sanity check\n",
    "print(data.shape)\n",
    "print(labels.shape)\n",
    "print(theta.shape)"
   ]
  },
  {
   "cell_type": "code",
   "execution_count": 4,
   "metadata": {},
   "outputs": [],
   "source": [
    "margins = labels * np.dot(theta, data) / np.linalg.norm(theta)"
   ]
  },
  {
   "cell_type": "code",
   "execution_count": 5,
   "metadata": {},
   "outputs": [
    {
     "data": {
      "text/plain": [
       "0.2683281572999747"
      ]
     },
     "execution_count": 5,
     "metadata": {},
     "output_type": "execute_result"
    }
   ],
   "source": [
    "gamma = margins.min()\n",
    "gamma"
   ]
  },
  {
   "cell_type": "markdown",
   "metadata": {},
   "source": [
    "### (b)"
   ]
  },
  {
   "cell_type": "code",
   "execution_count": 6,
   "metadata": {},
   "outputs": [
    {
     "data": {
      "text/plain": [
       "800.0010249993434"
      ]
     },
     "execution_count": 6,
     "metadata": {},
     "output_type": "execute_result"
    }
   ],
   "source": [
    "R = np.sqrt(np.sum(np.square(data), axis=0)).max()\n",
    "R"
   ]
  },
  {
   "cell_type": "code",
   "execution_count": 7,
   "metadata": {},
   "outputs": [
    {
     "data": {
      "text/plain": [
       "8888911.666666672"
      ]
     },
     "execution_count": 7,
     "metadata": {},
     "output_type": "execute_result"
    }
   ],
   "source": [
    "mistakes_bound = (R / gamma) ** 2\n",
    "mistakes_bound"
   ]
  },
  {
   "cell_type": "markdown",
   "metadata": {},
   "source": [
    "### (c)"
   ]
  },
  {
   "cell_type": "code",
   "execution_count": 8,
   "metadata": {},
   "outputs": [],
   "source": [
    "# define modified perceptron\n",
    "def perceptron(data, labels, params = {}, hook = None):\n",
    "    T = params.get('T', 100)\n",
    "    (d, n) = data.shape\n",
    "    m = 0\n",
    "    theta = np.zeros((d, 1)); theta_0 = np.zeros((1, 1))\n",
    "    for t in range(T):\n",
    "        for i in range(n):\n",
    "            x = data[:,i:i+1]\n",
    "            y = labels[:,i:i+1]\n",
    "            if y * positive(x, theta, theta_0) <= 0.0:\n",
    "                m += 1\n",
    "                theta = theta + y * x\n",
    "                theta_0 = theta_0 + y\n",
    "                if hook: hook((theta, theta_0))\n",
    "    return m"
   ]
  },
  {
   "cell_type": "code",
   "execution_count": 11,
   "metadata": {},
   "outputs": [
    {
     "name": "stdout",
     "output_type": "stream",
     "text": [
      "666696\n"
     ]
    }
   ],
   "source": [
    "data = np.array([[200, 800, 200, 800],\n",
    "                 [0.2,  0.2,  0.8,  0.8]])\n",
    "labels = np.array([[-1, -1, 1, 1]])\n",
    "def perceptron(data, labels, params = {}, hook = None):\n",
    "    T = params.get('T', 100)\n",
    "    (d, n) = data.shape\n",
    "    m = 0\n",
    "    theta = np.zeros((d, 1)); theta_0 = np.zeros((1, 1))\n",
    "    for t in range(T):\n",
    "        for i in range(n):\n",
    "            x = data[:,i:i+1]\n",
    "            y = labels[:,i:i+1]\n",
    "            if y * positive(x, theta, theta_0) <= 0.0:\n",
    "                m += 1\n",
    "                theta = theta + y * x\n",
    "                theta_0 = theta_0 + y\n",
    "                if hook: hook((theta, theta_0))\n",
    "    return m\n",
    "T = 200000\n",
    "tmp = 0\n",
    "while True:\n",
    "    mistake = perceptron(data, labels, params = {'T': T})\n",
    "    if mistake == tmp:\n",
    "        print(mistake)\n",
    "        break\n",
    "    else:\n",
    "        tmp = mistake\n",
    "        T += 100000"
   ]
  },
  {
   "cell_type": "markdown",
   "metadata": {},
   "source": [
    "### (d)"
   ]
  },
  {
   "cell_type": "code",
   "execution_count": 134,
   "metadata": {},
   "outputs": [
    {
     "name": "stdout",
     "output_type": "stream",
     "text": [
      "[[2.e-01 8.e-01 2.e-01 8.e-01]\n",
      " [2.e-04 2.e-04 8.e-04 8.e-04]\n",
      " [1.e+00 1.e+00 1.e+00 1.e+00]]\n"
     ]
    },
    {
     "data": {
      "text/plain": [
       "0.00029999996250000706"
      ]
     },
     "execution_count": 134,
     "metadata": {},
     "output_type": "execute_result"
    }
   ],
   "source": [
    "data_d = data.copy()\n",
    "data_d[0:2] *= 0.001\n",
    "print(data_d)\n",
    "theta_d = np.array([[0, 1, -0.0005]])\n",
    "margins = labels * np.dot(theta_d, data_d) / np.linalg.norm(theta_d)\n",
    "gamma = margins.min()\n",
    "gamma"
   ]
  },
  {
   "cell_type": "markdown",
   "metadata": {},
   "source": [
    "### (e)"
   ]
  },
  {
   "cell_type": "code",
   "execution_count": 135,
   "metadata": {},
   "outputs": [
    {
     "data": {
      "text/plain": [
       "18222233.88889067"
      ]
     },
     "execution_count": 135,
     "metadata": {},
     "output_type": "execute_result"
    }
   ],
   "source": [
    "R = np.sqrt(np.sum(np.square(data_d), axis=0)).max()\n",
    "mistakes_bound = (R / gamma) ** 2\n",
    "mistakes_bound"
   ]
  },
  {
   "cell_type": "markdown",
   "metadata": {},
   "source": [
    "### (f)"
   ]
  },
  {
   "cell_type": "code",
   "execution_count": 136,
   "metadata": {},
   "outputs": [
    {
     "name": "stdout",
     "output_type": "stream",
     "text": [
      "[[0.2 0.8 0.2 0.8]\n",
      " [0.2 0.2 0.8 0.8]\n",
      " [1.  1.  1.  1. ]]\n"
     ]
    },
    {
     "data": {
      "text/plain": [
       "0.2683281572999747"
      ]
     },
     "execution_count": 136,
     "metadata": {},
     "output_type": "execute_result"
    }
   ],
   "source": [
    "data_e = data.copy()\n",
    "data_e[0] *= 0.001\n",
    "print(data_e)\n",
    "margins = labels * np.dot(theta, data_e) / np.linalg.norm(theta)\n",
    "gamma = margins.min()\n",
    "gamma"
   ]
  },
  {
   "cell_type": "markdown",
   "metadata": {},
   "source": [
    "### (g)"
   ]
  },
  {
   "cell_type": "code",
   "execution_count": 137,
   "metadata": {},
   "outputs": [
    {
     "data": {
      "text/plain": [
       "31.666666666666686"
      ]
     },
     "execution_count": 137,
     "metadata": {},
     "output_type": "execute_result"
    }
   ],
   "source": [
    "R = np.sqrt(np.sum(np.square(data_e), axis=0)).max()\n",
    "mistakes_bound = (R / gamma) ** 2\n",
    "mistakes_bound"
   ]
  },
  {
   "cell_type": "code",
   "execution_count": 138,
   "metadata": {},
   "outputs": [],
   "source": [
    "# print(perceptron(data_e, labels, params = {'T': 800000}))"
   ]
  },
  {
   "cell_type": "markdown",
   "metadata": {},
   "source": [
    "## (2) Encoding Discrete Values"
   ]
  },
  {
   "cell_type": "code",
   "execution_count": 2,
   "metadata": {},
   "outputs": [],
   "source": [
    "data =   np.array([[2, 3,  4,  5]])\n",
    "labels = np.array([[1, 1, -1, -1]])"
   ]
  },
  {
   "cell_type": "code",
   "execution_count": 140,
   "metadata": {},
   "outputs": [],
   "source": [
    "# redefine modified perceptron\n",
    "def perceptron(data, labels, params = {}, hook = None):\n",
    "    T = params.get('T', 100)\n",
    "    (d, n) = data.shape\n",
    "    m = 0\n",
    "    theta = np.zeros((d, 1)); theta_0 = np.zeros((1, 1))\n",
    "    for t in range(T):\n",
    "        for i in range(n):\n",
    "            x = data[:,i:i+1]\n",
    "            y = labels[:,i:i+1]\n",
    "            if y * positive(x, theta, theta_0) <= 0.0:\n",
    "                m += 1\n",
    "                theta = theta + y * x\n",
    "                theta_0 = theta_0 + y\n",
    "                if hook: hook((theta, theta_0))\n",
    "    return theta, theta_0"
   ]
  },
  {
   "cell_type": "code",
   "execution_count": 141,
   "metadata": {},
   "outputs": [
    {
     "data": {
      "text/plain": [
       "array([[ 7. ,  7. ],\n",
       "       [ 8. , 13. ],\n",
       "       [ 6.5,  4. ]])"
      ]
     },
     "execution_count": 141,
     "metadata": {},
     "output_type": "execute_result"
    }
   ],
   "source": [
    "test = np.array([[1, 6]])\n",
    "np.dot(theta.T, test) + theta_0"
   ]
  },
  {
   "cell_type": "markdown",
   "metadata": {},
   "source": [
    "(d)"
   ]
  },
  {
   "cell_type": "code",
   "execution_count": 142,
   "metadata": {},
   "outputs": [],
   "source": [
    "def one_hot_vec(x, k):\n",
    "    idxs = x - 1\n",
    "    arr = np.zeros((k, x.shape[1]))\n",
    "    arr[idxs,:] = 1\n",
    "    return arr"
   ]
  },
  {
   "cell_type": "code",
   "execution_count": 7,
   "metadata": {},
   "outputs": [],
   "source": [
    "def one_hot(x, k):\n",
    "    arr = np.zeros((k, 1))\n",
    "    arr[x - 1, 0] = 1\n",
    "    return arr"
   ]
  },
  {
   "cell_type": "code",
   "execution_count": 11,
   "metadata": {},
   "outputs": [
    {
     "name": "stdout",
     "output_type": "stream",
     "text": [
      "4\n"
     ]
    }
   ],
   "source": [
    "print(data.shape[1])\n",
    "data_feature = np.zeros((6, data.shape[1]))\n",
    "for i in range(data.shape[1]):\n",
    "    data_feature[:, i:i+1] = one_hot(data[0, i], 6)    "
   ]
  },
  {
   "cell_type": "code",
   "execution_count": 12,
   "metadata": {},
   "outputs": [
    {
     "data": {
      "text/plain": [
       "array([[0., 0., 0., 0.],\n",
       "       [1., 0., 0., 0.],\n",
       "       [0., 1., 0., 0.],\n",
       "       [0., 0., 1., 0.],\n",
       "       [0., 0., 0., 1.],\n",
       "       [0., 0., 0., 0.]])"
      ]
     },
     "execution_count": 12,
     "metadata": {},
     "output_type": "execute_result"
    }
   ],
   "source": [
    "data_feature"
   ]
  },
  {
   "cell_type": "code",
   "execution_count": 20,
   "metadata": {},
   "outputs": [
    {
     "data": {
      "text/plain": [
       "(array([[ 0.],\n",
       "        [ 2.],\n",
       "        [ 1.],\n",
       "        [-2.],\n",
       "        [-1.],\n",
       "        [ 0.]]), array([[0.]]))"
      ]
     },
     "execution_count": 20,
     "metadata": {},
     "output_type": "execute_result"
    }
   ],
   "source": [
    "th, th0 = perceptron(data_feature, labels)\n",
    "th, th0"
   ]
  },
  {
   "cell_type": "code",
   "execution_count": 21,
   "metadata": {},
   "outputs": [
    {
     "data": {
      "text/plain": [
       "array([[[0.],\n",
       "        [0.]]])"
      ]
     },
     "execution_count": 21,
     "metadata": {},
     "output_type": "execute_result"
    }
   ],
   "source": [
    "x = np.array([one_hot(1, 6), one_hot(6, 6)])\n",
    "positive(x, th, th0)"
   ]
  },
  {
   "cell_type": "code",
   "execution_count": 19,
   "metadata": {},
   "outputs": [
    {
     "data": {
      "text/plain": [
       "array([[[0.],\n",
       "        [0.]]])"
      ]
     },
     "execution_count": 19,
     "metadata": {},
     "output_type": "execute_result"
    }
   ],
   "source": [
    "margins = np.dot(th.T, x) / np.linalg.norm(th)\n",
    "margins"
   ]
  },
  {
   "cell_type": "code",
   "execution_count": 22,
   "metadata": {},
   "outputs": [],
   "source": [
    "data =   np.array([[1, 2, 3, 4, 5, 6]])\n",
    "labels = np.array([[1, 1, -1, -1, 1, 1]])\n",
    "data_feature = np.zeros((6, data.shape[1]))\n",
    "for i in range(data.shape[1]):\n",
    "    data_feature[:, i:i+1] = one_hot(data[0, i], 6)    "
   ]
  },
  {
   "cell_type": "code",
   "execution_count": 23,
   "metadata": {},
   "outputs": [
    {
     "data": {
      "text/plain": [
       "(array([[ 1.],\n",
       "        [ 1.],\n",
       "        [-2.],\n",
       "        [-2.],\n",
       "        [ 1.],\n",
       "        [ 1.]]), array([[0.]]))"
      ]
     },
     "execution_count": 23,
     "metadata": {},
     "output_type": "execute_result"
    }
   ],
   "source": [
    "th, th0 = perceptron(data_feature, labels)\n",
    "th, th0"
   ]
  },
  {
   "cell_type": "code",
   "execution_count": 25,
   "metadata": {},
   "outputs": [
    {
     "data": {
      "text/plain": [
       "[3.0, 66.0, 231.0, 496.0, 861.0, 1326.0]"
      ]
     },
     "execution_count": 25,
     "metadata": {},
     "output_type": "execute_result"
    }
   ],
   "source": [
    "lst = [1, 10, 20, 30, 40, 50]\n",
    "for i in range(len(lst)):\n",
    "   lst[i] = (1 + lst[i] + 1) * (lst[i] + 1) / 2\n",
    "lst"
   ]
  },
  {
   "cell_type": "code",
   "execution_count": 32,
   "metadata": {},
   "outputs": [
    {
     "data": {
      "image/png": "[encoded data removed]",
      "text/plain": [
       "<Figure size 432x288 with 1 Axes>"
      ]
     },
     "metadata": {},
     "output_type": "display_data"
    },
    {
     "name": "stdout",
     "output_type": "stream",
     "text": [
      "th [[1. 2. 5.]] th0 [[1.]]\n",
      "th [[ 0. -1.  4.]] th0 [[0.]]\n",
      "th [[ -1. -13.  -1.]] th0 [[-1.]]\n",
      "th [[  0. -11.   4.]] th0 [[0.]]\n",
      "th [[ 1. -2. 10.]] th0 [[1.]]\n",
      "th [[  0. -14.   5.]] th0 [[0.]]\n",
      "th [[  1. -12.  10.]] th0 [[1.]]\n",
      "th [[ 2. -3. 16.]] th0 [[2.]]\n",
      "th [[  1. -15.  11.]] th0 [[1.]]\n",
      "th [[ 2. -6. 17.]] th0 [[2.]]\n",
      "th [[  1. -18.  12.]] th0 [[1.]]\n",
      "th [[ 2. -9. 18.]] th0 [[2.]]\n",
      "th [[ 2. -9. 18.]] th0 [[2.]]\n",
      "Final score 4\n",
      "Params [[ 2. -9. 18.]] [[2.]]\n"
     ]
    }
   ],
   "source": [
    "test_with_features(super_simple_separable_through_origin, order=1, draw=True, pause=False)"
   ]
  },
  {
   "cell_type": "code",
   "execution_count": null,
   "metadata": {},
   "outputs": [],
   "source": []
  }
 ],
 "metadata": {
  "kernelspec": {
   "display_name": "Python 3",
   "language": "python",
   "name": "python3"
  },
  "language_info": {
   "codemirror_mode": {
    "name": "ipython",
    "version": 3
   },
   "file_extension": ".py",
   "mimetype": "text/x-python",
   "name": "python",
   "nbconvert_exporter": "python",
   "pygments_lexer": "ipython3",
   "version": "3.7.0"
  }
 },
 "nbformat": 4,
 "nbformat_minor": 2
}
